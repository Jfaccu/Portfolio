{
 "cells": [
  {
   "cell_type": "code",
   "execution_count": 1,
   "id": "5eac8d24",
   "metadata": {},
   "outputs": [],
   "source": []
  },
  {
   "cell_type": "code",
   "execution_count": null,
   "id": "9660522a",
   "metadata": {},
   "outputs": [],
   "source": []
  },
  {
   "cell_type": "code",
   "execution_count": null,
   "id": "10b38a48",
   "metadata": {},
   "outputs": [],
   "source": []
  },
  {
   "cell_type": "code",
   "execution_count": null,
   "id": "e9dce324",
   "metadata": {},
   "outputs": [],
   "source": []
  },
  {
   "cell_type": "code",
   "execution_count": 70,
   "id": "ecccc670",
   "metadata": {},
   "outputs": [],
   "source": [
    "import numpy as np\n",
    "\n",
    "def calculate(list):\n",
    "    if len(list) != 9:\n",
    "        raise ValueError(\"List must contain nine numbers.\")\n",
    "    rows=[]\n",
    "    for i in range(0,9,3):\n",
    "        rows.append(list[i:i+3])\n",
    "    matrix=np.array([rows[0],rows[1],rows[2]])\n",
    "    calculations={\n",
    "    'mean': [np.mean(matrix, axis=0).tolist(),     np.mean(matrix, axis=1).tolist(), np.mean(matrix).tolist()],\n",
    "    'variance': [np.var(matrix, axis=0).tolist(), np.var(matrix, axis=1).tolist(), np.var(matrix).tolist()],\n",
    "    'standard deviation': [np.std(matrix, axis=0).tolist(), np.std(matrix, axis=1).tolist(), np.std(matrix).tolist()],\n",
    "    'max': [np.max(matrix, axis=0).tolist(), np.max(matrix, axis=1).tolist(), np.max(matrix).tolist()],\n",
    "    'min': [np.min(matrix, axis=0).tolist(), np.min(matrix, axis=1).tolist(), np.min(matrix).tolist()],\n",
    "  'sum': [np.sum(matrix, axis=0).tolist(), np.sum(matrix, axis=1).tolist(), np.sum(matrix).tolist()]\n",
    "   }\n",
    "    return calculations"
   ]
  },
  {
   "cell_type": "code",
   "execution_count": 71,
   "id": "f4a69f68",
   "metadata": {},
   "outputs": [
    {
     "data": {
      "text/plain": [
       "{'mean': [[4.666666666666667, 4.333333333333333, 2.6666666666666665],\n",
       "  [5.0, 3.0, 3.6666666666666665],\n",
       "  3.888888888888889],\n",
       " 'variance': [[9.555555555555555, 11.555555555555557, 4.222222222222222],\n",
       "  [10.666666666666666, 0.0, 14.888888888888891],\n",
       "  9.209876543209875],\n",
       " 'standard deviation': [[3.0912061651652345,\n",
       "   3.39934634239519,\n",
       "   2.0548046676563256],\n",
       "  [3.265986323710904, 0.0, 3.8586123009300755],\n",
       "  3.0347778408328137],\n",
       " 'max': [[9, 9, 5], [9, 3, 9], 9],\n",
       " 'min': [[2, 1, 0], [1, 3, 0], 0],\n",
       " 'sum': [[14, 13, 8], [15, 9, 11], 35]}"
      ]
     },
     "execution_count": 71,
     "metadata": {},
     "output_type": "execute_result"
    }
   ],
   "source": [
    "lista=[9,1,5,3,3,3,2,9,0]\n",
    "calculate(lista)"
   ]
  },
  {
   "cell_type": "code",
   "execution_count": null,
   "id": "80cfe167",
   "metadata": {},
   "outputs": [],
   "source": []
  },
  {
   "cell_type": "code",
   "execution_count": null,
   "id": "8a07fcea",
   "metadata": {},
   "outputs": [],
   "source": []
  }
 ],
 "metadata": {
  "kernelspec": {
   "display_name": "Python 3 (ipykernel)",
   "language": "python",
   "name": "python3"
  },
  "language_info": {
   "codemirror_mode": {
    "name": "ipython",
    "version": 3
   },
   "file_extension": ".py",
   "mimetype": "text/x-python",
   "name": "python",
   "nbconvert_exporter": "python",
   "pygments_lexer": "ipython3",
   "version": "3.9.1"
  }
 },
 "nbformat": 4,
 "nbformat_minor": 5
}
