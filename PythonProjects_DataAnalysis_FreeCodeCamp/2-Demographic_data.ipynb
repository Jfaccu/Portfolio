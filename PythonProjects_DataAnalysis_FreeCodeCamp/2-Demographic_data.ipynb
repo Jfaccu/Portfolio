{
 "cells": [
  {
   "cell_type": "code",
   "execution_count": 68,
   "id": "d04698fb",
   "metadata": {},
   "outputs": [],
   "source": [
    "import pandas as pd\n",
    "import numpy as np"
   ]
  },
  {
   "cell_type": "code",
   "execution_count": null,
   "id": "db8be46c",
   "metadata": {},
   "outputs": [],
   "source": []
  },
  {
   "cell_type": "code",
   "execution_count": null,
   "id": "96082861",
   "metadata": {},
   "outputs": [],
   "source": []
  },
  {
   "cell_type": "code",
   "execution_count": null,
   "id": "bd7ebdb3",
   "metadata": {},
   "outputs": [],
   "source": []
  },
  {
   "cell_type": "code",
   "execution_count": null,
   "id": "918a3541",
   "metadata": {},
   "outputs": [],
   "source": []
  },
  {
   "cell_type": "code",
   "execution_count": null,
   "id": "2ba7b301",
   "metadata": {},
   "outputs": [],
   "source": []
  },
  {
   "cell_type": "code",
   "execution_count": null,
   "id": "9f31c306",
   "metadata": {},
   "outputs": [],
   "source": [
    "def calculate_demographic_data(print_data=True):\n",
    "    # Read data from file\n",
    "    df = pd.read_csv(\"adult.data.csv\")\n",
    "\n",
    "    # How many of each race are represented in this dataset? This should be a Pandas series with race names as the index labels.\n",
    "    race_count = df[\"race\"].value_counts()\n",
    "\n",
    "    # What is the average age of men?\n",
    "    average_age_men = round(df.loc[df[\"sex\"]==\"Male\",\"age\"].mean(),1)\n",
    "\n",
    "    # What is the percentage of people who have a Bachelor's degree?\n",
    "    percentage_bachelors = df.loc[df[\"education\"]==\"Bachelors\"].size/df[\"education\"].size\n",
    "\n",
    "    # What percentage of people with advanced education (`Bachelors`, `Masters`, or `Doctorate`) make more than 50K?\n",
    "    # What percentage of people without advanced education make more than 50K?\n",
    "\n",
    "    # with and without `Bachelors`, `Masters`, or `Doctorate`\n",
    "  \n",
    "    higher_education = df.loc[df[\"education\"].isin([\"Bachelors\", \"Masters\",\"Doctorate\"])]\n",
    "    lower_education = df.loc[~df[\"education\"].isin([\"Bachelors\", \"Masters\",\"Doctorate\"])]\n",
    "\n",
    "    # percentage with salary >50K\n",
    "    higher_education_rich = round(\n",
    "        100\n",
    "        * higher_education.loc[higher_education[\"salary\"] == \">50K\"].size\n",
    "        / higher_education.size,\n",
    "        1,\n",
    "    )\n",
    "    lower_education_rich = round(\n",
    "        100\n",
    "        * lower_education.loc[lower_education[\"salary\"] == \">50K\"].size\n",
    "        / lower_education.size,\n",
    "        1,\n",
    "    )\n",
    "\n",
    "    # What is the minimum number of hours a person works per week (hours-per-week feature)?\n",
    "    min_work_hours = df[\"hours-per-week\"].min()\n",
    "\n",
    "    # What percentage of the people who work the minimum number of hours per week have a salary of >50K?\n",
    "    num_min_workers = df.loc[(df[\"salary\"]==\">50K\") & (df[\"hours-per-week\"]==min_work_hours),\"hours-per-week\"].size/df[\"hours-per-week\"].size\n",
    "\n",
    "    rich_percentage = df.loc[(df[\"salary\"]==\">50K\") & (df[\"hours-per-week\"]==min_work_hours),\"hours-per-week\"].size/df[\"hours-per-week\"].size\n",
    "\n",
    "    # What country has the highest percentage of people that earn >50K?\n",
    "    highest_country= (df[[\"salary\", \"native-country\"]].groupby(\"native-country\").apply(lambda g: g.loc[g[\"salary\"] == \">50K\"].size / g.size * 100))\n",
    "\n",
    "    highest_earning_country = highest_country.idxmax()\n",
    "    highest_earning_country_percentage = round(highest_country.max(), 1)\n",
    "\n",
    "    # Identify the most popular occupation for those who earn >50K in India.\n",
    "    top_IN_occupation = (\n",
    "        df.loc[(df[\"native-country\"] == \"India\") & (df[\"salary\"] == \">50K\")][\n",
    "            \"occupation\"\n",
    "        ]\n",
    "        .value_counts()\n",
    "        .idxmax()\n",
    "    )\n",
    "\n",
    "    # DO NOT MODIFY BELOW THIS LINE\n",
    "\n",
    "    if print_data:\n",
    "        print(\"Number of each race:\\n\", race_count) \n",
    "        print(\"Average age of men:\", average_age_men)\n",
    "        print(f\"Percentage with Bachelors degrees: {percentage_bachelors}%\")\n",
    "        print(f\"Percentage with higher education that earn >50K: {higher_education_rich}%\")\n",
    "        print(f\"Percentage without higher education that earn >50K: {lower_education_rich}%\")\n",
    "        print(f\"Min work time: {min_work_hours} hours/week\")\n",
    "        print(f\"Percentage of rich among those who work fewest hours: {rich_percentage}%\")\n",
    "        print(\"Country with highest percentage of rich:\", highest_earning_country)\n",
    "        print(f\"Highest percentage of rich people in country: {highest_earning_country_percentage}%\")\n",
    "        print(\"Top occupations in India:\", top_IN_occupation)\n",
    "\n",
    "    return {\n",
    "        'race_count': race_count,\n",
    "        'average_age_men': average_age_men,\n",
    "        'percentage_bachelors': percentage_bachelors,\n",
    "        'higher_education_rich': higher_education_rich,\n",
    "        'lower_education_rich': lower_education_rich,\n",
    "        'min_work_hours': min_work_hours,\n",
    "        'rich_percentage': rich_percentage,\n",
    "        'highest_earning_country': highest_earning_country,\n",
    "        'highest_earning_country_percentage':\n",
    "        highest_earning_country_percentage,\n",
    "        'top_IN_occupation': top_IN_occupation\n",
    "    }"
   ]
  },
  {
   "cell_type": "code",
   "execution_count": 87,
   "id": "e3bf4f2a",
   "metadata": {},
   "outputs": [
    {
     "data": {
      "text/plain": [
       "'Prof-specialty'"
      ]
     },
     "execution_count": 87,
     "metadata": {},
     "output_type": "execute_result"
    }
   ],
   "source": [
    "df = pd.read_csv(\"adult.data.csv\")\n",
    "top_IN_occupation = (\n",
    "        df.loc[(df[\"native-country\"] == \"India\") & (df[\"salary\"] == \">50K\")][\n",
    "            \"occupation\"\n",
    "        ]\n",
    "        .value_counts()\n",
    "        .idxmax()\n",
    "    )\n",
    "top_IN_occupation"
   ]
  },
  {
   "cell_type": "code",
   "execution_count": null,
   "id": "8d9ef8f1",
   "metadata": {},
   "outputs": [],
   "source": []
  }
 ],
 "metadata": {
  "kernelspec": {
   "display_name": "Python 3 (ipykernel)",
   "language": "python",
   "name": "python3"
  },
  "language_info": {
   "codemirror_mode": {
    "name": "ipython",
    "version": 3
   },
   "file_extension": ".py",
   "mimetype": "text/x-python",
   "name": "python",
   "nbconvert_exporter": "python",
   "pygments_lexer": "ipython3",
   "version": "3.9.1"
  }
 },
 "nbformat": 4,
 "nbformat_minor": 5
}
